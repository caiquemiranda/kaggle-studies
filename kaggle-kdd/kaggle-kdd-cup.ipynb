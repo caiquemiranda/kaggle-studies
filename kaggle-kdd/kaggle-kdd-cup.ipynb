{
 "cells": [
  {
   "cell_type": "code",
   "execution_count": 1,
   "metadata": {},
   "outputs": [],
   "source": [
    "# Modelando o 'churn'"
   ]
  },
  {
   "cell_type": "code",
   "execution_count": 3,
   "metadata": {},
   "outputs": [],
   "source": [
    "# importando as bibliotecas\n",
    "\n",
    "# tratamento de dados\n",
    "import pandas as pd\n",
    "import numpy as np\n",
    "\n",
    "# visualização de dados\n",
    "import matplotlib.pyplot as plt\n",
    "\n",
    "# modelagem dos dados\n",
    "from sklearn.ensemble import RandomForestClassifier, ExtraTreesClassifier, GradientBoostingClassifier\n",
    "from sklearn.metrics import roc_auc_score\n",
    "from sklearn.model_selection import train_test_split, GridSearchCV, cross_val_score"
   ]
  },
  {
   "cell_type": "code",
   "execution_count": 5,
   "metadata": {},
   "outputs": [],
   "source": [
    "# carregando os dados\n",
    "features = pd.read_csv('data/orange_small_train.data', sep='\\t', na_filter=False)\n",
    "outcome = pd.read_csv('data/orange_small_train_churn.labels', header=None)\n"
   ]
  },
  {
   "cell_type": "code",
   "execution_count": 6,
   "metadata": {},
   "outputs": [
    {
     "data": {
      "text/plain": [
       "(50000, 230)"
      ]
     },
     "execution_count": 6,
     "metadata": {},
     "output_type": "execute_result"
    }
   ],
   "source": [
    "# tamanho dos dados\n",
    "features.shape"
   ]
  },
  {
   "cell_type": "code",
   "execution_count": 7,
   "metadata": {},
   "outputs": [
    {
     "data": {
      "text/html": [
       "<div>\n",
       "<style scoped>\n",
       "    .dataframe tbody tr th:only-of-type {\n",
       "        vertical-align: middle;\n",
       "    }\n",
       "\n",
       "    .dataframe tbody tr th {\n",
       "        vertical-align: top;\n",
       "    }\n",
       "\n",
       "    .dataframe thead th {\n",
       "        text-align: right;\n",
       "    }\n",
       "</style>\n",
       "<table border=\"1\" class=\"dataframe\">\n",
       "  <thead>\n",
       "    <tr style=\"text-align: right;\">\n",
       "      <th></th>\n",
       "      <th>Var1</th>\n",
       "      <th>Var2</th>\n",
       "      <th>Var3</th>\n",
       "      <th>Var4</th>\n",
       "      <th>Var5</th>\n",
       "      <th>Var6</th>\n",
       "      <th>Var7</th>\n",
       "      <th>Var8</th>\n",
       "      <th>Var9</th>\n",
       "      <th>Var10</th>\n",
       "      <th>...</th>\n",
       "      <th>Var221</th>\n",
       "      <th>Var222</th>\n",
       "      <th>Var223</th>\n",
       "      <th>Var224</th>\n",
       "      <th>Var225</th>\n",
       "      <th>Var226</th>\n",
       "      <th>Var227</th>\n",
       "      <th>Var228</th>\n",
       "      <th>Var229</th>\n",
       "      <th>Var230</th>\n",
       "    </tr>\n",
       "  </thead>\n",
       "  <tbody>\n",
       "    <tr>\n",
       "      <th>0</th>\n",
       "      <td></td>\n",
       "      <td></td>\n",
       "      <td></td>\n",
       "      <td></td>\n",
       "      <td></td>\n",
       "      <td>1526</td>\n",
       "      <td>7</td>\n",
       "      <td></td>\n",
       "      <td></td>\n",
       "      <td></td>\n",
       "      <td>...</td>\n",
       "      <td>oslk</td>\n",
       "      <td>fXVEsaq</td>\n",
       "      <td>jySVZNlOJy</td>\n",
       "      <td></td>\n",
       "      <td></td>\n",
       "      <td>xb3V</td>\n",
       "      <td>RAYp</td>\n",
       "      <td>F2FyR07IdsN7I</td>\n",
       "      <td></td>\n",
       "      <td></td>\n",
       "    </tr>\n",
       "    <tr>\n",
       "      <th>1</th>\n",
       "      <td></td>\n",
       "      <td></td>\n",
       "      <td></td>\n",
       "      <td></td>\n",
       "      <td></td>\n",
       "      <td>525</td>\n",
       "      <td>0</td>\n",
       "      <td></td>\n",
       "      <td></td>\n",
       "      <td></td>\n",
       "      <td>...</td>\n",
       "      <td>oslk</td>\n",
       "      <td>2Kb5FSF</td>\n",
       "      <td>LM8l689qOp</td>\n",
       "      <td></td>\n",
       "      <td></td>\n",
       "      <td>fKCe</td>\n",
       "      <td>RAYp</td>\n",
       "      <td>F2FyR07IdsN7I</td>\n",
       "      <td></td>\n",
       "      <td></td>\n",
       "    </tr>\n",
       "    <tr>\n",
       "      <th>2</th>\n",
       "      <td></td>\n",
       "      <td></td>\n",
       "      <td></td>\n",
       "      <td></td>\n",
       "      <td></td>\n",
       "      <td>5236</td>\n",
       "      <td>7</td>\n",
       "      <td></td>\n",
       "      <td></td>\n",
       "      <td></td>\n",
       "      <td>...</td>\n",
       "      <td>Al6ZaUT</td>\n",
       "      <td>NKv4yOc</td>\n",
       "      <td>jySVZNlOJy</td>\n",
       "      <td></td>\n",
       "      <td>kG3k</td>\n",
       "      <td>Qu4f</td>\n",
       "      <td>02N6s8f</td>\n",
       "      <td>ib5G6X1eUxUn6</td>\n",
       "      <td>am7c</td>\n",
       "      <td></td>\n",
       "    </tr>\n",
       "    <tr>\n",
       "      <th>3</th>\n",
       "      <td></td>\n",
       "      <td></td>\n",
       "      <td></td>\n",
       "      <td></td>\n",
       "      <td></td>\n",
       "      <td></td>\n",
       "      <td>0</td>\n",
       "      <td></td>\n",
       "      <td></td>\n",
       "      <td></td>\n",
       "      <td>...</td>\n",
       "      <td>oslk</td>\n",
       "      <td>CE7uk3u</td>\n",
       "      <td>LM8l689qOp</td>\n",
       "      <td></td>\n",
       "      <td></td>\n",
       "      <td>FSa2</td>\n",
       "      <td>RAYp</td>\n",
       "      <td>F2FyR07IdsN7I</td>\n",
       "      <td></td>\n",
       "      <td></td>\n",
       "    </tr>\n",
       "    <tr>\n",
       "      <th>4</th>\n",
       "      <td></td>\n",
       "      <td></td>\n",
       "      <td></td>\n",
       "      <td></td>\n",
       "      <td></td>\n",
       "      <td>1029</td>\n",
       "      <td>7</td>\n",
       "      <td></td>\n",
       "      <td></td>\n",
       "      <td></td>\n",
       "      <td>...</td>\n",
       "      <td>oslk</td>\n",
       "      <td>1J2cvxe</td>\n",
       "      <td>LM8l689qOp</td>\n",
       "      <td></td>\n",
       "      <td>kG3k</td>\n",
       "      <td>FSa2</td>\n",
       "      <td>RAYp</td>\n",
       "      <td>F2FyR07IdsN7I</td>\n",
       "      <td>mj86</td>\n",
       "      <td></td>\n",
       "    </tr>\n",
       "  </tbody>\n",
       "</table>\n",
       "<p>5 rows × 230 columns</p>\n",
       "</div>"
      ],
      "text/plain": [
       "  Var1 Var2 Var3 Var4 Var5  Var6 Var7 Var8 Var9 Var10  ...   Var221   Var222  \\\n",
       "0                           1526    7                  ...     oslk  fXVEsaq   \n",
       "1                            525    0                  ...     oslk  2Kb5FSF   \n",
       "2                           5236    7                  ...  Al6ZaUT  NKv4yOc   \n",
       "3                                   0                  ...     oslk  CE7uk3u   \n",
       "4                           1029    7                  ...     oslk  1J2cvxe   \n",
       "\n",
       "       Var223 Var224 Var225 Var226   Var227         Var228 Var229 Var230  \n",
       "0  jySVZNlOJy                 xb3V     RAYp  F2FyR07IdsN7I                \n",
       "1  LM8l689qOp                 fKCe     RAYp  F2FyR07IdsN7I                \n",
       "2  jySVZNlOJy          kG3k   Qu4f  02N6s8f  ib5G6X1eUxUn6   am7c         \n",
       "3  LM8l689qOp                 FSa2     RAYp  F2FyR07IdsN7I                \n",
       "4  LM8l689qOp          kG3k   FSa2     RAYp  F2FyR07IdsN7I   mj86         \n",
       "\n",
       "[5 rows x 230 columns]"
      ]
     },
     "execution_count": 7,
     "metadata": {},
     "output_type": "execute_result"
    }
   ],
   "source": [
    "# primeiras linhas dos dados\n",
    "features.head()"
   ]
  },
  {
   "cell_type": "code",
   "execution_count": 8,
   "metadata": {},
   "outputs": [
    {
     "data": {
      "text/plain": [
       "(50000, 1)"
      ]
     },
     "execution_count": 8,
     "metadata": {},
     "output_type": "execute_result"
    }
   ],
   "source": [
    "outcome.shape"
   ]
  },
  {
   "cell_type": "code",
   "execution_count": 9,
   "metadata": {},
   "outputs": [
    {
     "data": {
      "text/html": [
       "<div>\n",
       "<style scoped>\n",
       "    .dataframe tbody tr th:only-of-type {\n",
       "        vertical-align: middle;\n",
       "    }\n",
       "\n",
       "    .dataframe tbody tr th {\n",
       "        vertical-align: top;\n",
       "    }\n",
       "\n",
       "    .dataframe thead th {\n",
       "        text-align: right;\n",
       "    }\n",
       "</style>\n",
       "<table border=\"1\" class=\"dataframe\">\n",
       "  <thead>\n",
       "    <tr style=\"text-align: right;\">\n",
       "      <th></th>\n",
       "      <th>0</th>\n",
       "    </tr>\n",
       "  </thead>\n",
       "  <tbody>\n",
       "    <tr>\n",
       "      <th>0</th>\n",
       "      <td>-1</td>\n",
       "    </tr>\n",
       "    <tr>\n",
       "      <th>1</th>\n",
       "      <td>1</td>\n",
       "    </tr>\n",
       "    <tr>\n",
       "      <th>2</th>\n",
       "      <td>-1</td>\n",
       "    </tr>\n",
       "    <tr>\n",
       "      <th>3</th>\n",
       "      <td>-1</td>\n",
       "    </tr>\n",
       "    <tr>\n",
       "      <th>4</th>\n",
       "      <td>-1</td>\n",
       "    </tr>\n",
       "  </tbody>\n",
       "</table>\n",
       "</div>"
      ],
      "text/plain": [
       "   0\n",
       "0 -1\n",
       "1  1\n",
       "2 -1\n",
       "3 -1\n",
       "4 -1"
      ]
     },
     "execution_count": 9,
     "metadata": {},
     "output_type": "execute_result"
    }
   ],
   "source": [
    "outcome.head()"
   ]
  },
  {
   "cell_type": "code",
   "execution_count": 10,
   "metadata": {},
   "outputs": [
    {
     "data": {
      "text/plain": [
       "array([-1,  1], dtype=int64)"
      ]
     },
     "execution_count": 10,
     "metadata": {},
     "output_type": "execute_result"
    }
   ],
   "source": [
    "# valores outcome\n",
    "np.unique(outcome)"
   ]
  },
  {
   "cell_type": "code",
   "execution_count": 13,
   "metadata": {},
   "outputs": [
    {
     "data": {
      "text/plain": [
       "array(['Var1', 'Var2', 'Var3', 'Var4', 'Var5', 'Var6', 'Var7', 'Var8',\n",
       "       'Var9', 'Var10', 'Var11', 'Var12', 'Var13', 'Var14', 'Var15',\n",
       "       'Var16', 'Var17', 'Var18', 'Var19', 'Var20', 'Var21', 'Var22',\n",
       "       'Var23', 'Var24', 'Var25', 'Var26', 'Var27', 'Var28', 'Var29',\n",
       "       'Var30', 'Var31', 'Var32', 'Var33', 'Var34', 'Var35', 'Var36',\n",
       "       'Var37', 'Var38', 'Var39', 'Var40', 'Var41', 'Var42', 'Var43',\n",
       "       'Var44', 'Var45', 'Var46', 'Var47', 'Var48', 'Var49', 'Var50',\n",
       "       'Var51', 'Var52', 'Var53', 'Var54', 'Var55', 'Var56', 'Var57',\n",
       "       'Var58', 'Var59', 'Var60', 'Var61', 'Var62', 'Var63', 'Var64',\n",
       "       'Var65', 'Var66', 'Var67', 'Var68', 'Var69', 'Var70', 'Var71',\n",
       "       'Var72', 'Var73', 'Var74', 'Var75', 'Var76', 'Var77', 'Var78',\n",
       "       'Var79', 'Var80', 'Var81', 'Var82', 'Var83', 'Var84', 'Var85',\n",
       "       'Var86', 'Var87', 'Var88', 'Var89', 'Var90', 'Var91', 'Var92',\n",
       "       'Var93', 'Var94', 'Var95', 'Var96', 'Var97', 'Var98', 'Var99',\n",
       "       'Var100', 'Var101', 'Var102', 'Var103', 'Var104', 'Var105',\n",
       "       'Var106', 'Var107', 'Var108', 'Var109', 'Var110', 'Var111',\n",
       "       'Var112', 'Var113', 'Var114', 'Var115', 'Var116', 'Var117',\n",
       "       'Var118', 'Var119', 'Var120', 'Var121', 'Var122', 'Var123',\n",
       "       'Var124', 'Var125', 'Var126', 'Var127', 'Var128', 'Var129',\n",
       "       'Var130', 'Var131', 'Var132', 'Var133', 'Var134', 'Var135',\n",
       "       'Var136', 'Var137', 'Var138', 'Var139', 'Var140', 'Var141',\n",
       "       'Var142', 'Var143', 'Var144', 'Var145', 'Var146', 'Var147',\n",
       "       'Var148', 'Var149', 'Var150', 'Var151', 'Var152', 'Var153',\n",
       "       'Var154', 'Var155', 'Var156', 'Var157', 'Var158', 'Var159',\n",
       "       'Var160', 'Var161', 'Var162', 'Var163', 'Var164', 'Var165',\n",
       "       'Var166', 'Var167', 'Var168', 'Var169', 'Var170', 'Var171',\n",
       "       'Var172', 'Var173', 'Var174', 'Var175', 'Var176', 'Var177',\n",
       "       'Var178', 'Var179', 'Var180', 'Var181', 'Var182', 'Var183',\n",
       "       'Var184', 'Var185', 'Var186', 'Var187', 'Var188', 'Var189',\n",
       "       'Var190', 'Var191', 'Var192', 'Var193', 'Var194', 'Var195',\n",
       "       'Var196', 'Var197', 'Var198', 'Var199', 'Var200', 'Var201',\n",
       "       'Var202', 'Var203', 'Var204', 'Var205', 'Var206', 'Var207',\n",
       "       'Var208', 'Var209', 'Var210', 'Var211', 'Var212', 'Var213',\n",
       "       'Var214', 'Var215', 'Var216', 'Var217', 'Var218', 'Var219',\n",
       "       'Var220', 'Var221', 'Var222', 'Var223', 'Var224', 'Var225',\n",
       "       'Var226', 'Var227', 'Var228', 'Var229', 'Var230'], dtype=object)"
      ]
     },
     "execution_count": 13,
     "metadata": {},
     "output_type": "execute_result"
    }
   ],
   "source": [
    "# todas as variaveis(nome)\n",
    "all_vars = np.array(features.columns)\n",
    "all_vars"
   ]
  },
  {
   "cell_type": "code",
   "execution_count": 16,
   "metadata": {},
   "outputs": [
    {
     "data": {
      "text/plain": [
       "array(['Var1', 'Var2', 'Var3', 'Var4', 'Var5', 'Var6', 'Var7', 'Var8',\n",
       "       'Var9', 'Var10', 'Var11', 'Var12', 'Var13', 'Var14', 'Var15',\n",
       "       'Var16', 'Var17', 'Var18', 'Var19', 'Var20', 'Var21', 'Var22',\n",
       "       'Var23', 'Var24', 'Var25', 'Var26', 'Var27', 'Var28', 'Var29',\n",
       "       'Var30', 'Var31', 'Var32', 'Var33', 'Var34', 'Var35', 'Var36',\n",
       "       'Var37', 'Var38', 'Var39', 'Var40', 'Var41', 'Var42', 'Var43',\n",
       "       'Var44', 'Var45', 'Var46', 'Var47', 'Var48', 'Var49', 'Var50',\n",
       "       'Var51', 'Var52', 'Var53', 'Var54', 'Var55', 'Var56', 'Var57',\n",
       "       'Var58', 'Var59', 'Var60', 'Var61', 'Var62', 'Var63', 'Var64',\n",
       "       'Var65', 'Var66', 'Var67', 'Var68', 'Var69', 'Var70', 'Var71',\n",
       "       'Var72', 'Var73', 'Var74', 'Var75', 'Var76', 'Var77', 'Var78',\n",
       "       'Var79', 'Var80', 'Var81', 'Var82', 'Var83', 'Var84', 'Var85',\n",
       "       'Var86', 'Var87', 'Var88', 'Var89', 'Var90', 'Var91', 'Var92',\n",
       "       'Var93', 'Var94', 'Var95', 'Var96', 'Var97', 'Var98', 'Var99',\n",
       "       'Var100', 'Var101', 'Var102', 'Var103', 'Var104', 'Var105',\n",
       "       'Var106', 'Var107', 'Var108', 'Var109', 'Var110', 'Var111',\n",
       "       'Var112', 'Var113', 'Var114', 'Var115', 'Var116', 'Var117',\n",
       "       'Var118', 'Var119', 'Var120', 'Var121', 'Var122', 'Var123',\n",
       "       'Var124', 'Var125', 'Var126', 'Var127', 'Var128', 'Var129',\n",
       "       'Var130', 'Var131', 'Var132', 'Var133', 'Var134', 'Var135',\n",
       "       'Var136', 'Var137', 'Var138', 'Var139', 'Var140', 'Var141',\n",
       "       'Var142', 'Var143', 'Var144', 'Var145', 'Var146', 'Var147',\n",
       "       'Var148', 'Var149', 'Var150', 'Var151', 'Var152', 'Var153',\n",
       "       'Var154', 'Var155', 'Var156', 'Var157', 'Var158', 'Var159',\n",
       "       'Var160', 'Var161', 'Var162', 'Var163', 'Var164', 'Var165',\n",
       "       'Var166', 'Var167', 'Var168', 'Var169', 'Var170', 'Var171',\n",
       "       'Var172', 'Var173', 'Var174', 'Var175', 'Var176', 'Var177',\n",
       "       'Var178', 'Var179', 'Var180', 'Var181', 'Var182', 'Var183',\n",
       "       'Var184', 'Var185', 'Var186', 'Var187', 'Var188', 'Var189',\n",
       "       'Var190'], dtype=object)"
      ]
     },
     "execution_count": 16,
     "metadata": {},
     "output_type": "execute_result"
    }
   ],
   "source": [
    "# descrição do projeto as primeiras 190 variaveis são numericas\n",
    "num_vars = np.array(all_vars[:190])\n",
    "num_vars"
   ]
  },
  {
   "cell_type": "code",
   "execution_count": 18,
   "metadata": {},
   "outputs": [
    {
     "data": {
      "text/plain": [
       "array(['Var191', 'Var192', 'Var193', 'Var194', 'Var195', 'Var196',\n",
       "       'Var197', 'Var198', 'Var199', 'Var200', 'Var201', 'Var202',\n",
       "       'Var203', 'Var204', 'Var205', 'Var206', 'Var207', 'Var208',\n",
       "       'Var209', 'Var210', 'Var211', 'Var212', 'Var213', 'Var214',\n",
       "       'Var215', 'Var216', 'Var217', 'Var218', 'Var219', 'Var220',\n",
       "       'Var221', 'Var222', 'Var223', 'Var224', 'Var225', 'Var226',\n",
       "       'Var227', 'Var228', 'Var229', 'Var230'], dtype=object)"
      ]
     },
     "execution_count": 18,
     "metadata": {},
     "output_type": "execute_result"
    }
   ],
   "source": [
    "cat_vars = np.array(all_vars[190:])\n",
    "cat_vars"
   ]
  },
  {
   "cell_type": "code",
   "execution_count": 19,
   "metadata": {},
   "outputs": [
    {
     "data": {
      "text/html": [
       "<div>\n",
       "<style scoped>\n",
       "    .dataframe tbody tr th:only-of-type {\n",
       "        vertical-align: middle;\n",
       "    }\n",
       "\n",
       "    .dataframe tbody tr th {\n",
       "        vertical-align: top;\n",
       "    }\n",
       "\n",
       "    .dataframe thead th {\n",
       "        text-align: right;\n",
       "    }\n",
       "</style>\n",
       "<table border=\"1\" class=\"dataframe\">\n",
       "  <thead>\n",
       "    <tr style=\"text-align: right;\">\n",
       "      <th></th>\n",
       "      <th>Var57</th>\n",
       "      <th>Var73</th>\n",
       "      <th>Var113</th>\n",
       "    </tr>\n",
       "  </thead>\n",
       "  <tbody>\n",
       "    <tr>\n",
       "      <th>count</th>\n",
       "      <td>50000.000000</td>\n",
       "      <td>50000.00000</td>\n",
       "      <td>5.000000e+04</td>\n",
       "    </tr>\n",
       "    <tr>\n",
       "      <th>mean</th>\n",
       "      <td>3.512311</td>\n",
       "      <td>66.64108</td>\n",
       "      <td>-1.532786e+05</td>\n",
       "    </tr>\n",
       "    <tr>\n",
       "      <th>std</th>\n",
       "      <td>2.025882</td>\n",
       "      <td>52.85917</td>\n",
       "      <td>7.613730e+05</td>\n",
       "    </tr>\n",
       "    <tr>\n",
       "      <th>min</th>\n",
       "      <td>0.000214</td>\n",
       "      <td>4.00000</td>\n",
       "      <td>-9.803600e+06</td>\n",
       "    </tr>\n",
       "    <tr>\n",
       "      <th>25%</th>\n",
       "      <td>1.743164</td>\n",
       "      <td>24.00000</td>\n",
       "      <td>-1.827148e+05</td>\n",
       "    </tr>\n",
       "    <tr>\n",
       "      <th>50%</th>\n",
       "      <td>3.514741</td>\n",
       "      <td>52.00000</td>\n",
       "      <td>2.961542e+04</td>\n",
       "    </tr>\n",
       "    <tr>\n",
       "      <th>75%</th>\n",
       "      <td>5.264741</td>\n",
       "      <td>102.00000</td>\n",
       "      <td>1.474875e+05</td>\n",
       "    </tr>\n",
       "    <tr>\n",
       "      <th>max</th>\n",
       "      <td>7.000000</td>\n",
       "      <td>264.00000</td>\n",
       "      <td>9.932480e+06</td>\n",
       "    </tr>\n",
       "  </tbody>\n",
       "</table>\n",
       "</div>"
      ],
      "text/plain": [
       "              Var57        Var73        Var113\n",
       "count  50000.000000  50000.00000  5.000000e+04\n",
       "mean       3.512311     66.64108 -1.532786e+05\n",
       "std        2.025882     52.85917  7.613730e+05\n",
       "min        0.000214      4.00000 -9.803600e+06\n",
       "25%        1.743164     24.00000 -1.827148e+05\n",
       "50%        3.514741     52.00000  2.961542e+04\n",
       "75%        5.264741    102.00000  1.474875e+05\n",
       "max        7.000000    264.00000  9.932480e+06"
      ]
     },
     "execution_count": 19,
     "metadata": {},
     "output_type": "execute_result"
    }
   ],
   "source": [
    "# verificação das consistencias nos dados\n",
    "# verificação das variaveis numericas\n",
    "features[num_vars].describe()"
   ]
  },
  {
   "cell_type": "code",
   "execution_count": 20,
   "metadata": {},
   "outputs": [
    {
     "data": {
      "text/plain": [
       "Var1      object\n",
       "Var2      object\n",
       "Var3      object\n",
       "Var4      object\n",
       "Var5      object\n",
       "           ...  \n",
       "Var226    object\n",
       "Var227    object\n",
       "Var228    object\n",
       "Var229    object\n",
       "Var230    object\n",
       "Length: 230, dtype: object"
      ]
     },
     "execution_count": 20,
     "metadata": {},
     "output_type": "execute_result"
    }
   ],
   "source": [
    "features.dtypes"
   ]
  },
  {
   "cell_type": "code",
   "execution_count": 22,
   "metadata": {},
   "outputs": [
    {
     "data": {
      "text/plain": [
       "Var1\n",
       "       49298\n",
       "0        380\n",
       "120        1\n",
       "128        2\n",
       "152        1\n",
       "16        81\n",
       "24        46\n",
       "32        23\n",
       "360        1\n",
       "392        1\n",
       "40        10\n",
       "48         6\n",
       "536        1\n",
       "56         5\n",
       "64         1\n",
       "680        1\n",
       "72         3\n",
       "8        138\n",
       "80         1\n",
       "dtype: int64"
      ]
     },
     "execution_count": 22,
     "metadata": {},
     "output_type": "execute_result"
    }
   ],
   "source": [
    "# verificação dos valores da variavel 1 'Var1'\n",
    "var = features.groupby('Var1').size()\n",
    "var"
   ]
  },
  {
   "cell_type": "code",
   "execution_count": null,
   "metadata": {},
   "outputs": [],
   "source": []
  }
 ],
 "metadata": {
  "interpreter": {
   "hash": "b3ba2566441a7c06988d0923437866b63cedc61552a5af99d1f4fb67d367b25f"
  },
  "kernelspec": {
   "display_name": "Python 3.8.8 ('base')",
   "language": "python",
   "name": "python3"
  },
  "language_info": {
   "codemirror_mode": {
    "name": "ipython",
    "version": 3
   },
   "file_extension": ".py",
   "mimetype": "text/x-python",
   "name": "python",
   "nbconvert_exporter": "python",
   "pygments_lexer": "ipython3",
   "version": "3.8.8"
  },
  "orig_nbformat": 4
 },
 "nbformat": 4,
 "nbformat_minor": 2
}
